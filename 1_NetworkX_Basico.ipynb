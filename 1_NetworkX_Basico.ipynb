{
 "cells": [
  {
   "cell_type": "markdown",
   "source": "<div style=\"width: 100%; clear: both;\">\n<div style=\"float: left; width: 50%;\">\n<img src=\"http://www.uoc.edu/portal/_resources/common/imatges/marca_UOC/UOC_Masterbrand.jpg\" align=\"left\"/>\n</div>\n</div>\n<div style=\"float: right; width: 50%;\">\n<p style=\"margin: 0; padding-top: 22px; text-align:right;\">M2.856 · Análisis de sentimientos y redes sociales</p>\n<p style=\"margin: 0; text-align:right;\">Máster universitario de Ciencia de datos (<i>Data Science</i>)</p>\n<p style=\"margin: 0; text-align:right; padding-button: 100px;\">Estudios de Informática, Multimedia y Telecomunicación</p>\n</div>\n</div>\n<div style=\"width: 100%; clear: both;\">\n<div style=\"width:100%;\">&nbsp;</div>\n    \n# Análisis de sentimientos y redes sociales\n## PLA4: Representación de redes sociales como grafos",
   "metadata": {
    "cell_id": "00000-0e55f140-c607-4319-a9f5-54b8db817dd7",
    "deepnote_cell_type": "markdown"
   }
  },
  {
   "cell_type": "markdown",
   "source": "# Introducción a NetworkX\n\nNetworkX es uno de los paquetes de Python más populares para la creación, manipulación y estudio de la estructura de las redes complejas en general (y las redes sociales en particular).\n\nAl nivel más básico, una red se compone de dos elementos:\n\n* Los sujetos representados, llamados *nodos* (**_nodes_**).\n* Las relaciones entre ellos, llamadas *aristas* (**_edges_**).\n\n## PRIMEROS PASOS\n\nImportar **networkx** y crear de un grafo **vacío**.",
   "metadata": {
    "cell_id": "00001-be9d940c-2b87-4a93-be76-e9f17828c5e1",
    "deepnote_cell_type": "markdown"
   }
  },
  {
   "cell_type": "code",
   "metadata": {
    "tags": [],
    "cell_id": "00003-8ad535a7-51c1-4250-a828-10a8d96ae3d1",
    "deepnote_to_be_reexecuted": false,
    "source_hash": "89576e3",
    "execution_start": 1634407193964,
    "execution_millis": 5066,
    "deepnote_cell_type": "code"
   },
   "source": "!pip install networkx",
   "execution_count": null,
   "outputs": [
    {
     "name": "stdout",
     "text": "Collecting networkx\n  Downloading networkx-2.6.3-py3-none-any.whl (1.9 MB)\n\u001b[K     |████████████████████████████████| 1.9 MB 28.4 MB/s \n\u001b[?25hInstalling collected packages: networkx\nSuccessfully installed networkx-2.6.3\n\u001b[33mWARNING: You are using pip version 21.2.4; however, version 21.3 is available.\nYou should consider upgrading via the '/root/venv/bin/python -m pip install --upgrade pip' command.\u001b[0m\n",
     "output_type": "stream"
    }
   ]
  },
  {
   "cell_type": "code",
   "metadata": {
    "cell_id": "00002-31713c72-1562-4a47-8ead-d6c9062f3b09",
    "deepnote_to_be_reexecuted": false,
    "source_hash": "e6196f65",
    "execution_start": 1634407203935,
    "execution_millis": 73,
    "deepnote_cell_type": "code"
   },
   "source": "import networkx as nx\nG = nx.Graph()",
   "execution_count": null,
   "outputs": []
  },
  {
   "cell_type": "markdown",
   "source": "Un **_graph_** o **grafo** es un conjunto de nodos relacionados por pares (mediante sus aristas, enlaces o relaciones). En NetworkX, los nodos pueden formarse a partir de casi cualquier objeto:\n- Cadenas de texto (*strings*).\n- Imágenes.\n- Objetos XML.\n- Otros grafos.\n- Etc..\n\nLos grafos pueden construirse de varias formas. \n\n## NODOS (NODES)\n\nEmpezaremos viendo cómo se incorporan nodos de forma simple.",
   "metadata": {
    "cell_id": "00003-df4b1370-c367-4b93-a8d1-aaa592ec5774",
    "deepnote_cell_type": "markdown"
   }
  },
  {
   "cell_type": "code",
   "metadata": {
    "cell_id": "00004-22509209-eafe-4fb3-be65-84750bf2e990",
    "deepnote_to_be_reexecuted": false,
    "source_hash": "c6c9fe29",
    "execution_start": 1634407311122,
    "execution_millis": 0,
    "deepnote_cell_type": "code"
   },
   "source": "G.clear() #Reiniciamos G.\n\n# Por ejemplo, de uno en uno.\n\nG.add_node(1)\nprint(\"1. El grafo G tiene los nodos: \" + str(list(G.nodes())))\n\n# O con una lista.\n\nG.add_nodes_from([1,2,3,4,5])\n# Observad que se ha intentado volver a insertar el nodo 1 pero ni se ha duplicado ni ha devuelto error, \n# simplemente se ha ignorado.\nprint(\"2. El grafo G tiene los nodos: \" + str(list(G.nodes())))\n",
   "execution_count": null,
   "outputs": [
    {
     "name": "stdout",
     "text": "1. El grafo G tiene los nodos: [1]\n2. El grafo G tiene los nodos: [1, 2, 3, 4, 5]\n",
     "output_type": "stream"
    }
   ]
  },
  {
   "cell_type": "markdown",
   "source": "## ARISTAS (EDGES)\n\nLas aristas funcionan de forma muy parecida.",
   "metadata": {
    "cell_id": "00005-870605be-77d7-4e63-8b6b-a4bc62b748f6",
    "deepnote_cell_type": "markdown"
   }
  },
  {
   "cell_type": "code",
   "metadata": {
    "cell_id": "00006-e0fd8681-5bac-41bf-b470-dd4c55057f70",
    "deepnote_to_be_reexecuted": false,
    "source_hash": "bbd58c04",
    "execution_start": 1634407316475,
    "execution_millis": 0,
    "deepnote_cell_type": "code"
   },
   "source": "# Añadimos una arista sin atributos. Por ahora, es un Graph() y, por lo tanto, NO es direccional.\n\nG.add_edge(1, 2) # Crea un enlace entre 1 y 2.\nprint(\"1. El grafo G tiene las aristas: \" + str(list(G.edges())))\n\n# También podemos añadir una lista de aristas.\n\nG.add_edges_from([(1, 2), (1, 3)])\nprint(\"2. El grafo G tiene las aristas: \" + str(list(G.edges())))\n\n# De nuevo, las aristas ya existentes no se duplican ni dan error; se ignoran. ",
   "execution_count": null,
   "outputs": [
    {
     "name": "stdout",
     "text": "1. El grafo G tiene las aristas: [(1, 2)]\n2. El grafo G tiene las aristas: [(1, 2), (1, 3)]\n",
     "output_type": "stream"
    }
   ]
  },
  {
   "cell_type": "markdown",
   "source": "Pero, ¿qué pasa si añadimos una arista entre nodos que no existen en el grafo? Vamos a comprobarlo.",
   "metadata": {
    "cell_id": "00007-084a82dd-3b8b-48c1-bb33-bcb07b73287f",
    "deepnote_cell_type": "markdown"
   }
  },
  {
   "cell_type": "code",
   "metadata": {
    "cell_id": "00008-77ab2671-0031-4ffd-b9d3-cdeb8aa905d3",
    "deepnote_to_be_reexecuted": false,
    "source_hash": "28b33543",
    "execution_start": 1634407590779,
    "execution_millis": 9,
    "deepnote_cell_type": "code"
   },
   "source": "print(\"Nodos iniciales: \" + str(list(G.nodes())))\nprint(\"Aristas iniciales: \" + str(list(G.edges())))\n\n#Añadimos una arista entre 1 (que sí está) y 6 (que no) y una entre 7 y 8 (ninguna está entre los nodos iniciales).\n\nG.add_edges_from([(1, 6), (7, 8)])\n\nprint(\"Nodos finales: \" + str(list(G.nodes())))\nprint(\"Aristas finales: \" + str(list(G.edges())))",
   "execution_count": null,
   "outputs": [
    {
     "name": "stdout",
     "text": "Nodos iniciales: [1, 2, 3, 4, 5]\nAristas iniciales: [(1, 2), (1, 3)]\nNodos finales: [1, 2, 3, 4, 5, 6, 7, 8]\nAristas finales: [(1, 2), (1, 3), (1, 6), (7, 8)]\n",
     "output_type": "stream"
    }
   ]
  },
  {
   "cell_type": "markdown",
   "source": "Así, comprobamos que añadir aristas también crea los nodos necesarios. Hay que ser cauteloso con la creación, puesto que pueden darse generaciones no deseadas al intentar establecer un vínculo entre dos nodos referenciados de forma incorrecta sin darnos cuenta de ello.\n\n### Eliminar nodos o aristas\n\nPara eliminar nodos o aristas existen las funciones inversas a las de añadir. Sustituyen el *add* por el *remove*. ",
   "metadata": {
    "cell_id": "00009-6a371a41-bf22-486f-9d35-7e2d6ab2ccbb",
    "deepnote_cell_type": "markdown"
   }
  },
  {
   "cell_type": "code",
   "metadata": {
    "cell_id": "00010-b4949d16-5813-4e0d-b82f-f4bbecf0e55d",
    "deepnote_to_be_reexecuted": false,
    "source_hash": "9821ba7a",
    "execution_start": 1634407680747,
    "execution_millis": 3,
    "deepnote_cell_type": "code"
   },
   "source": "print(\"Nodos: \" + str(list(G.nodes())))\nprint(\"Aristas: \" + str(list(G.edges())))\n\n# Añadimos nodo 9 y aristas (10,11) y (8,9)\nG.add_node(9)\nG.add_edges_from([(10, 11), (8, 9)])\n\nprint(\"\\nAñadimos nodo 9 y dos aristas entre 10 y 11 (que se crean) y 8 y 9 (que existen)\")\nprint(\"Nodos: \" + str(list(G.nodes())))\nprint(\"Aristas: \" + str(list(G.edges())))\n\n# Eliminamos nodo 10 y arista (8,9)\nG.remove_node(10)\nG.remove_edge(8, 9)\n\nprint(\"\\nEliminamos nodo 10 y arista (8,9)\")\nprint(\"Nodos: \" + str(list(G.nodes())))\nprint(\"Aristas: \" + str(list(G.edges())))\n\nprint(\"\\nAl eliminar el nodo 10, ha eliminado automáticamente la arista 10,11, pero el nodo 11 sigue ahí.\")\nprint(\"Eliminar la arista 8, 9 no afecta a los nodos, solo a su enlace.\")\n\n# Eliminamos nodos 9 y 11 que han quedado sin tocar.\nG.remove_nodes_from([9,11])\n\nprint(\"\\nVuelta al estado inicial\")\nprint(\"Nodos: \" + str(list(G.nodes())))\nprint(\"Aristas: \" + str(list(G.edges())))",
   "execution_count": null,
   "outputs": [
    {
     "name": "stdout",
     "text": "Nodos: [1, 2, 3, 4, 5, 6, 7, 8]\nAristas: [(1, 2), (1, 3), (1, 6), (7, 8)]\n\nAñadimos nodo 9 y dos aristas entre 10 y 11 (que se crean) y 8 y 9 (que existen)\nNodos: [1, 2, 3, 4, 5, 6, 7, 8, 9, 10, 11]\nAristas: [(1, 2), (1, 3), (1, 6), (7, 8), (8, 9), (10, 11)]\n\nEliminamos nodo 10 y arista (8,9)\nNodos: [1, 2, 3, 4, 5, 6, 7, 8, 9, 11]\nAristas: [(1, 2), (1, 3), (1, 6), (7, 8)]\n\nAl eliminar el nodo 10, ha eliminado automáticamente la arista 10,11, pero el nodo 11 sigue ahí.\nEliminar la arista 8, 9 no afecta a los nodos, solo a su enlace.\n\nVuelta al estado inicial\nNodos: [1, 2, 3, 4, 5, 6, 7, 8]\nAristas: [(1, 2), (1, 3), (1, 6), (7, 8)]\n",
     "output_type": "stream"
    }
   ]
  },
  {
   "cell_type": "markdown",
   "source": "## GENERADORES\n\nEntraremos más adelante en este caso, pero por ahora basta decir que NetworkX contiene cantidad de funciones dedicadas a generar de forma automática varios tipos de grafos comunes o habituales de estudio. Por ejemplo, el [grafo de Petersen](https://en.wikipedia.org/wiki/Petersen_graph \"Petersen Graph en Wikipedia.org\"):\n\n![alt text](https://upload.wikimedia.org/wikipedia/commons/thumb/9/91/Petersen1_tiny.svg/200px-Petersen1_tiny.svg.png \"Petersen Graph\")",
   "metadata": {
    "cell_id": "00011-1b5be6b4-9544-42fd-a90f-8ed84b2ffa84",
    "deepnote_cell_type": "markdown"
   }
  },
  {
   "cell_type": "code",
   "metadata": {
    "cell_id": "00012-23e51b8d-250e-462f-a2f2-bfc29da5534c",
    "deepnote_cell_type": "code"
   },
   "source": "# Generar el grafo de Petersen\n\npetersen = nx.petersen_graph()\n\nprint(\"El grafo de Petersen tiene por nodos: \" + str(list(petersen.nodes())))\nprint(\"El grafo de Petersen tiene por aristas: \" + str(list(petersen.edges())))\n\n# Otros generadores admiten parámetros. Por ejemplo, generar un grafo completo de tamaño K. Probamos para K = 4.\n\nK_4 = nx.complete_graph(4)\n\nprint(\"El grafo completo de K=4 tiene por nodos: \" + str(list(K_4.nodes())))\nprint(\"El grafo completo de K=4 tiene por aristas: \" + str(list(K_4.edges())))",
   "execution_count": null,
   "outputs": [
    {
     "name": "stdout",
     "output_type": "stream",
     "text": "El grafo de Petersen tiene por nodos: [0, 1, 2, 3, 4, 5, 6, 7, 8, 9]\nEl grafo de Petersen tiene por aristas: [(0, 1), (0, 4), (0, 5), (1, 2), (1, 6), (2, 3), (2, 7), (3, 4), (3, 8), (4, 9), (5, 7), (5, 8), (6, 8), (6, 9), (7, 9)]\nEl grafo completo de K=4 tiene por nodos: [0, 1, 2, 3]\nEl grafo completo de K=4 tiene por aristas: [(0, 1), (0, 2), (0, 3), (1, 2), (1, 3), (2, 3)]\n"
    }
   ]
  },
  {
   "cell_type": "markdown",
   "source": "No entraremos más en detalle por ahora, pero vamos a dibujarlos con matplotlib para visualizarlos.",
   "metadata": {
    "cell_id": "00013-69eb7e5e-f871-4383-87ff-2a2f12fdb47a",
    "deepnote_cell_type": "markdown"
   }
  },
  {
   "cell_type": "code",
   "metadata": {
    "cell_id": "00014-52975fa6-05e1-44ad-879d-69f5f80b48dd",
    "deepnote_cell_type": "code"
   },
   "source": "import matplotlib.pyplot as plt\n\n# Procedemos a dibujar, de izquierda a derecha, a G (tal y como quedó en el último paso), Petersen y K_4.\n\nplt.subplot(131)\nnx.draw_random(G, with_labels=True, font_weight='bold')\nplt.subplot(132)\nnx.draw(petersen, with_labels=True, font_weight='bold')\nplt.subplot(133)\nnx.draw(K_4, with_labels=True, font_weight='bold')\nplt.show()",
   "execution_count": null,
   "outputs": [
    {
     "data": {
      "image/png": "[encoded data removed]",
      "text/plain": "<Figure size 432x288 with 3 Axes>"
     },
     "metadata": {
      "image/png": {
       "width": 372,
       "height": 248
      }
     },
     "output_type": "display_data"
    }
   ]
  },
  {
   "cell_type": "markdown",
   "source": "Parece que el Petersen (en el medio) está un poco atropellado, ¿verdad? En realidad, hay que tener en cuenta algo importante: un grafo no tiene una forma definida, del mismo modo que sus aristas no tienen una dimensión de \"distancia\". Así, aunque parezca muy distinto a la imagen limpia del apartado anterior, es en realidad **exactamente** el mismo grafo. Pero sí, el anterior era más claro y más bonito; más adelante veremos cómo lograr, en la medida de lo posible, que los grafos luzcan bonitos.\n\n\n## PROPIEDADES BÁSICAS\n\nUna vez representado el grafo, es el momento de trabajar con él. Empecemos viendo las operaciones básicas que pueden realizarse sobre sus componentes para comprobar sus propiedades.\n\n- G.nodes(): Para obtener la lista de nodos.\n- G.edges(): Para obtener la lista de aristas.\n- G.adj\\[NODO\\]: Para obtener la lista de nodos adyacentes (*vecinos*) a NODO.\n- G.degree\\[NODO\\]: Para obtener el grado de NODO (es decir, el número de aristas que le llegan).\n",
   "metadata": {
    "cell_id": "00015-1f0ec343-8a53-486b-81c4-2c14b7e79b51",
    "deepnote_cell_type": "markdown"
   }
  },
  {
   "cell_type": "code",
   "metadata": {
    "cell_id": "00016-3a1b3e09-6c84-453e-9cc5-f6cdae979c19",
    "deepnote_cell_type": "code"
   },
   "source": "# Usamos G como referencia de nuevo. Se puede ver el grafo dibujado para comprobar los resultados.\n\nprint(\"Nodos: \" + str(list(G.nodes())))\nprint(\"Aristas: \" + str(list(G.edges())))\nprint(\"Nodos vecinos de 1: \" + str(list(G.adj[1])))\nprint(\"Grado del nodo 1: \" + str(G.degree[1]))",
   "execution_count": null,
   "outputs": [
    {
     "name": "stdout",
     "output_type": "stream",
     "text": "Nodos: [1, 2, 3, 4, 5, 6, 7, 8]\nAristas: [(1, 2), (1, 3), (1, 6), (7, 8)]\nNodos vecinos de 1: [2, 3, 6]\nGrado del nodo 1: 3\n"
    }
   ]
  },
  {
   "cell_type": "markdown",
   "source": "**NOTA:** Es necesario tener en cuenta que los métodos que listan nodos, aristas y adyacentes han cambiado en NetworkX 2 respecto a la versión 1.x anterior. No entraremos en detalles, aunque pueden consultarse en el [anuncio oficial](https://networkx.github.io/documentation/stable/release/release_2.0.html \"NetworkX Release 2.0\"). \n\nBásicamente, las funciones del tipo *nodes()* devolvían una lista de objetos y los *nodes_iter()*, un iterador. Ahora, los primeros devuelven una vista (iterable) de solo lectura *NodeView*, lo que ha sustituido la segunda función, que ya no es necesaria. Para sacar la lista de la vista es suficiente usar la función de Python *list()*, como hemnos hecho hasta este punto. Vamos a comprobar la diferencia.",
   "metadata": {
    "cell_id": "00017-d18ca1d5-9cec-428d-8d0c-d65760dae152",
    "deepnote_cell_type": "markdown"
   }
  },
  {
   "cell_type": "code",
   "metadata": {
    "cell_id": "00018-922702af-f1fe-4563-aeda-a575f785c578",
    "deepnote_cell_type": "code"
   },
   "source": "G.nodes()",
   "execution_count": null,
   "outputs": [
    {
     "data": {
      "text/plain": "NodeView((1, 2, 3, 4, 5, 6, 7, 8))"
     },
     "execution_count": 14,
     "metadata": {},
     "output_type": "execute_result"
    }
   ]
  },
  {
   "cell_type": "code",
   "metadata": {
    "cell_id": "00019-dc773998-8798-444d-887d-3c1670c10045",
    "deepnote_cell_type": "code"
   },
   "source": "list(G.nodes())",
   "execution_count": null,
   "outputs": [
    {
     "data": {
      "text/plain": "[1, 2, 3, 4, 5, 6, 7, 8]"
     },
     "execution_count": 15,
     "metadata": {},
     "output_type": "execute_result"
    }
   ]
  },
  {
   "cell_type": "code",
   "metadata": {
    "cell_id": "00020-fffba893-d07f-47f4-9c05-2a271e81516a",
    "deepnote_cell_type": "code"
   },
   "source": "# NodeView es iterable\nfor node in G.nodes():\n    print(node)",
   "execution_count": null,
   "outputs": [
    {
     "name": "stdout",
     "output_type": "stream",
     "text": "1\n2\n3\n4\n5\n6\n7\n8\n"
    }
   ]
  },
  {
   "cell_type": "markdown",
   "source": "## ATRIBUTOS\n\nHasta este momento, los nodos y las aristas creadas están vacíos. Representan una relación pero carecen de atributos. A veces interesa que sea así (por ejemplo, la relación \"vive con\" no necesita atributo) pero también hay casos en los que nos interesa mantener más información (por ejemplo, si la persona representada en un nodo es hombre o mujer, o el número de veces que una persona ha visto a otra durante un cierto periodo de tiempo).\n\n¿Cómo se añaden los atributos?\n\n### Añadir atributos a nodos",
   "metadata": {
    "cell_id": "00021-328ef7c5-ca83-444e-b305-a8d3b9946b12",
    "deepnote_cell_type": "markdown"
   }
  },
  {
   "cell_type": "code",
   "metadata": {
    "cell_id": "00022-34976858-9cb3-410a-964d-0a2e790bc03c",
    "deepnote_cell_type": "code"
   },
   "source": "#Directamente en la creación\n\nG.add_node(1, sexo='mujer')\nG.add_nodes_from([3,6], sexo='hombre')\n\n#Creando el atributo y añadiéndolo (o modificándolo)\nG.nodes[3]['sexo'] = 'mujer'\nG.nodes[8]['edad'] = 25\nG.nodes[8]['sexo'] = 'hombre'\n\n# Así lo vemos ordenado, cada nodo con sus atributos.\nfor node in G.nodes.data():\n    print(node)",
   "execution_count": null,
   "outputs": [
    {
     "name": "stdout",
     "output_type": "stream",
     "text": "(1, {'sexo': 'mujer'})\n(2, {})\n(3, {'sexo': 'mujer'})\n(4, {})\n(5, {})\n(6, {'sexo': 'hombre'})\n(7, {})\n(8, {'edad': 25, 'sexo': 'hombre'})\n"
    }
   ]
  },
  {
   "cell_type": "markdown",
   "source": "### Añadir atributos a aristas\n\nUn caso muy típico es el peso, *weight*. Solo hay que tener en cuenta que este atributo en concreto es un poco especial y debería ser numérico, porque muchos algoritmos lo usan para sus cálculos (recorridos mínimos, por ejemplo). Para el resto, la misma libertad y funcionalidad que con los nodos.",
   "metadata": {
    "cell_id": "00023-38ee6f28-4a21-4674-9137-d6ac4f4717f5",
    "deepnote_cell_type": "markdown"
   }
  },
  {
   "cell_type": "code",
   "metadata": {
    "cell_id": "00024-02e310b7-90e6-485a-8ef7-67ee6c974aec",
    "deepnote_cell_type": "code"
   },
   "source": "# Directamente en la creación\nG.add_edge(1, 2, weight=4.7 )\nG.add_edges_from([(3, 4), (4, 5)], color='blue')\nG.add_edges_from([(1, 2, {'color': 'blue'}), (2, 3, {'weight': 8})])\n\n# Creando el atributo y añadiéndolo (o modificándolo)\nG[1][6]['weight'] = 3.0\nG.edges[3, 4]['weight'] = 4.2\n\nfor edge in G.edges.data():\n    print(edge)",
   "execution_count": null,
   "outputs": [
    {
     "name": "stdout",
     "output_type": "stream",
     "text": "(1, 2, {'weight': 4.7, 'color': 'blue'})\n(1, 3, {})\n(1, 6, {'weight': 3.0})\n(2, 3, {'weight': 8})\n(3, 4, {'color': 'blue', 'weight': 4.2})\n(4, 5, {'color': 'blue'})\n(7, 8, {})\n"
    }
   ]
  },
  {
   "cell_type": "markdown",
   "source": "Un caso que puede llamar la atención en el ejemplo anterior es G\\[1\\]\\[6\\]. Solo hay que tener en cuenta que:\n- G\\[1\\] es equivalente a G.adj\\[1\\], visto anteriormente.\n- G\\[1\\], por lo tanto, devuelve los adyacentes a 1, que son 2, 3 y 6. \n- G\\[1\\]\\[6\\] se refiere al nodo 6 adyacente a 1, siendo otra forma de referirse a la arista (1,6).\n- Tanto G\\[1\\]\\[6\\] como G.edges\\[1, 6\\] devuelven directamente el diccionario de atributos de la arista.\n\nEs quizás poco intuitivo, pero ejecutar G\\[1\\]\\[5\\], por ejemplo, resultará en error, porque no existe vínculo entre 1 y 5.",
   "metadata": {
    "cell_id": "00025-173c7e38-f915-4d2a-b500-4065d7ab4395",
    "deepnote_cell_type": "markdown"
   }
  },
  {
   "cell_type": "code",
   "metadata": {
    "cell_id": "00026-9a0b8733-6115-4efa-93f9-142fcca378ed",
    "deepnote_cell_type": "code"
   },
   "source": "print(G[1] == G.adj[1])\nprint(G[1][6] == G.edges[1, 6])",
   "execution_count": null,
   "outputs": [
    {
     "name": "stdout",
     "output_type": "stream",
     "text": "True\nTrue\n"
    }
   ]
  },
  {
   "cell_type": "markdown",
   "source": "## GRAFOS DIRIGIDOS\n\nTambién es importante mencionar los grafos dirigidos. Se ha visto que los grafos sin dirección responden a relaciones que son obligatoriamente recíprocas (por ejemplo, si Ana vive con José, José vive con Ana). Pero muchas relaciones no lo son, sino que tienen dirección. Por ejemplo, la amistad. Que Ana considere a José su amigo no significa que José considere a Ana como su amiga *per se*. A su vez, hay algoritmos que solo funcionan en grafos dirigidos (pero también hay otros que no están bien definidos sobre grafos dirigidos, así que existe la posibilidad de transformarlos, aunque perdiendo su significado original).\n\nSus funcionalidades básicas son muy parecidas a las de Graph():",
   "metadata": {
    "cell_id": "00027-f50a0bbf-be5e-43e4-a4b4-99248e8f909b",
    "deepnote_cell_type": "markdown"
   }
  },
  {
   "cell_type": "code",
   "metadata": {
    "cell_id": "00028-7da7ce9d-d4c2-476a-8a79-ed6da99dc2ee",
    "deepnote_cell_type": "code"
   },
   "source": "# Crear un grafo dirigido\n\nDG = nx.DiGraph()\n\n# Añadir aristas/nodos con pesos\n\nDG.add_weighted_edges_from([(1, 2, 0.5), (3, 1, 0.75)])\n\n# Mostrar el GRADO (pero aquí se tiene en cuenta el peso de cada arista que pasa por el nodo)\nprint(DG.degree(1, weight='weight'))\n\n# Las dos formas de obtener los adyacentes \nprint(list(DG.adj[1]))\nprint(list(DG.neighbors(1)))\n",
   "execution_count": null,
   "outputs": [
    {
     "name": "stdout",
     "output_type": "stream",
     "text": "1.25\n[2]\n[2]\n"
    }
   ]
  },
  {
   "cell_type": "markdown",
   "source": "Pero, un momento, si existen las aristas (1,2) y (3,1), ¿por qué no aparece 3 como vecino de 1 en DG.adj\\[1\\]? \n\nLa respuesta se encuentra en las funciones propias de DiGraph, como *in_degree()* y *out_degree()* (aristas entrantes y salientes) o *predecessors()* y *successors()* para obtener sus adyacentes direccionales. DG.adj es equivalente, para DiGraph, a los sucesores. \n\nAsí, solo devolverá los nodos a los que se llegue desde 1, no los que lleguen al mismo.\n\nVeamos las funciones propias en acción",
   "metadata": {
    "cell_id": "00029-266efcfa-059d-416e-b9f1-c0d1c2629023",
    "deepnote_cell_type": "markdown"
   }
  },
  {
   "cell_type": "code",
   "metadata": {
    "cell_id": "00030-10ad2b3d-8d49-484f-a91e-b3598a1908e1",
    "deepnote_cell_type": "code"
   },
   "source": "print(DG.in_degree(1)) # Grado ENTRANTE\nprint(DG.in_degree(1, weight='weight')) # Suma de pesos ENTRANTES\nprint(DG.out_degree(1, weight='weight')) # Suma de pesos SALIENTES\nprint(list(DG.predecessors(1))) # Lista de PREDECESORES\nprint(list(DG.successors(1))) # Lista de SUCESORES",
   "execution_count": null,
   "outputs": [
    {
     "name": "stdout",
     "output_type": "stream",
     "text": "1\n0.75\n0.5\n[3]\n[2]\n"
    }
   ]
  },
  {
   "cell_type": "markdown",
   "source": "## MULTIGRAFOS\n\nUn caso particular (y habitualmente menos útil, salvo para aplicaciones específicas) es el multigrafo, al que NetworkX también da cierto soporte. Pocos algoritmos están definidos para ellos, pero básicamente son una extensión del grafo o del grafo dirigido en la que es posible tener definidas dos aristas entre el mismo par de nodos.",
   "metadata": {
    "cell_id": "00031-282c061b-eb4b-489e-ab12-b64200982afb",
    "deepnote_cell_type": "markdown"
   }
  },
  {
   "cell_type": "code",
   "metadata": {
    "cell_id": "00032-1db03311-a36d-43ae-9c1c-48f692aefe61",
    "deepnote_cell_type": "code"
   },
   "source": "# Creación\n\nMG = nx.MultiGraph() # O MultiDiGraph() para direccionales.\n\n# Construcción\n\nMG.add_weighted_edges_from([(1, 2, 0.5), (1, 2, 0.75), (2, 3, 0.5)])\n\n# Grados por nodo\n\ndict(MG.degree(weight='weight'))",
   "execution_count": null,
   "outputs": [
    {
     "data": {
      "text/plain": "{1: 1.25, 2: 1.75, 3: 0.5}"
     },
     "execution_count": 22,
     "metadata": {},
     "output_type": "execute_result"
    }
   ]
  },
  {
   "cell_type": "markdown",
   "source": "Nótese que el grado de 1 es la suma de dos aristas que van al mismo nodo, 2, que el grado de 2 es la suma de las dos aristas que le llegan de 1 y de la que va hacia 3, mientras que el nodo 3 solo recibe una arista de 2.",
   "metadata": {
    "cell_id": "00033-9d60e862-81b0-4ea2-a26a-5fa0c86bb823",
    "deepnote_cell_type": "markdown"
   }
  },
  {
   "cell_type": "code",
   "metadata": {
    "cell_id": "00034-18ba8ab6-14d8-40df-8dce-36a8479fd80a",
    "deepnote_cell_type": "code"
   },
   "source": "",
   "execution_count": null,
   "outputs": []
  },
  {
   "cell_type": "markdown",
   "source": "<a style='text-decoration:none;line-height:16px;display:flex;color:#5B5B62;padding:10px;justify-content:end;' href='https://deepnote.com?utm_source=created-in-deepnote-cell&projectId=903ba621-5530-44f3-b674-65a9071d1f32' target=\"_blank\">\n<img alt='Created in deepnote.com' style='display:inline;max-height:16px;margin:0px;margin-right:7.5px;' src='data:image/svg+xml;base64,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' > </img>\nCreated in <span style='font-weight:600;margin-left:4px;'>Deepnote</span></a>",
   "metadata": {
    "tags": [],
    "created_in_deepnote_cell": true,
    "deepnote_cell_type": "markdown"
   }
  }
 ],
 "nbformat": 4,
 "nbformat_minor": 2,
 "metadata": {
  "kernelspec": {
   "display_name": "Python 3",
   "language": "python",
   "name": "python3"
  },
  "language_info": {
   "codemirror_mode": {
    "name": "ipython",
    "version": 3
   },
   "file_extension": ".py",
   "mimetype": "text/x-python",
   "name": "python",
   "nbconvert_exporter": "python",
   "pygments_lexer": "ipython3",
   "version": "3.6.7"
  },
  "varInspector": {
   "cols": {
    "lenName": 16,
    "lenType": 16,
    "lenVar": 40
   },
   "kernels_config": {
    "python": {
     "delete_cmd_postfix": "",
     "delete_cmd_prefix": "del ",
     "library": "var_list.py",
     "varRefreshCmd": "print(var_dic_list())"
    },
    "r": {
     "delete_cmd_postfix": ") ",
     "delete_cmd_prefix": "rm(",
     "library": "var_list.r",
     "varRefreshCmd": "cat(var_dic_list()) "
    }
   },
   "types_to_exclude": [
    "module",
    "function",
    "builtin_function_or_method",
    "instance",
    "_Feature"
   ],
   "window_display": false
  },
  "deepnote_notebook_id": "de5ddb1d-ba46-4b88-8aeb-112f91d57f17",
  "deepnote": {},
  "deepnote_execution_queue": []
 }
}